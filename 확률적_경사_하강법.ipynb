{
  "nbformat": 4,
  "nbformat_minor": 0,
  "metadata": {
    "colab": {
      "name": "확률적 경사 하강법.ipynb",
      "provenance": [],
      "collapsed_sections": [],
      "authorship_tag": "ABX9TyOwpjNR7irXONU61VfwacVJ",
      "include_colab_link": true
    },
    "kernelspec": {
      "name": "python3",
      "display_name": "Python 3"
    },
    "language_info": {
      "name": "python"
    }
  },
  "cells": [
    {
      "cell_type": "markdown",
      "metadata": {
        "id": "view-in-github",
        "colab_type": "text"
      },
      "source": [
        "<a href=\"https://colab.research.google.com/github/Ch0ro/ML-DL/blob/master/%ED%99%95%EB%A5%A0%EC%A0%81_%EA%B2%BD%EC%82%AC_%ED%95%98%EA%B0%95%EB%B2%95.ipynb\" target=\"_parent\"><img src=\"https://colab.research.google.com/assets/colab-badge.svg\" alt=\"Open In Colab\"/></a>"
      ]
    },
    {
      "cell_type": "markdown",
      "metadata": {
        "id": "MTBMQAVKE3Px"
      },
      "source": [
        "# 확률적 경사 하강법\n",
        "> 훈련 세트에서 샘플 하나씩 꺼내 손실 함수의 경사를 따라 최적의 모델을 찾는 알고리즘  \n",
        "> 샘플을 하나씩 사용하지 않고 여러 개를 사용하면 미니배치 경사 하강법  \n",
        "> 한 번에 전체 샘플을 사용하면 배치 경사 하강법\n",
        "## 에포크\n",
        "> 확률적 경사 하강법에서 전체 샘플을 모두 사용하는 한 번 반복을 의미  \n",
        "> 일반적으로 경사 하강법 알고리즘은 수십에서 수백 번의 에포크를 반복"
      ]
    },
    {
      "cell_type": "markdown",
      "metadata": {
        "id": "m4LFSn-tivS6"
      },
      "source": [
        "# 손실 함수\n",
        "> 확률적 경사 하강법이 최적화할 대상  \n",
        "> 이진 분류에는 로지스틱 회귀 (또는 이진 크로스엔트로피) 손실 함수를 사용  \n",
        "> 다중 분류에는 크로스엔트로피 손실 함수를 사용  \n",
        "> 회귀 문제에는 평균 제곱 오차 손실 함수를 사용"
      ]
    },
    {
      "cell_type": "markdown",
      "metadata": {
        "id": "XdEYBgDLlEO-"
      },
      "source": [
        "# SGDClassifier"
      ]
    },
    {
      "cell_type": "code",
      "metadata": {
        "id": "HT47wG7eErhe"
      },
      "source": [
        "import pandas as pd\n",
        "\n",
        "fish = pd.read_csv('https://bit.ly/fish_csv')"
      ],
      "execution_count": 2,
      "outputs": []
    },
    {
      "cell_type": "code",
      "metadata": {
        "id": "Jy8G_fnklCwZ"
      },
      "source": [
        "fish_input = fish[['Weight','Length','Diagonal','Height','Width']].to_numpy()\n",
        "fish_target = fish['Species'].to_numpy()"
      ],
      "execution_count": 3,
      "outputs": []
    },
    {
      "cell_type": "code",
      "metadata": {
        "id": "J_FCcaMalZtm"
      },
      "source": [
        "from sklearn.model_selection import train_test_split\n",
        "\n",
        "train_input, test_input, train_target, test_target = train_test_split(fish_input,fish_target, random_state=42)"
      ],
      "execution_count": 4,
      "outputs": []
    },
    {
      "cell_type": "code",
      "metadata": {
        "id": "UsT1I7m1lpnU"
      },
      "source": [
        "from sklearn.preprocessing import StandardScaler\n",
        "\n",
        "ss = StandardScaler()\n",
        "ss.fit(train_input)\n",
        "train_scaled = ss.transform(train_input)\n",
        "test_scaled = ss.transform(test_input)"
      ],
      "execution_count": 5,
      "outputs": []
    },
    {
      "cell_type": "code",
      "metadata": {
        "colab": {
          "base_uri": "https://localhost:8080/"
        },
        "id": "7a4v0RM0mAzk",
        "outputId": "b6ecfcff-344e-4697-ab85-3558907c9da9"
      },
      "source": [
        "from sklearn.linear_model import SGDClassifier\n",
        "\n",
        "sc = SGDClassifier(loss='log', max_iter=10, random_state=42)\n",
        "sc.fit(train_scaled,train_target)\n",
        "print(sc.score(train_scaled, train_target))\n",
        "print(sc.score(test_scaled, test_target))"
      ],
      "execution_count": 6,
      "outputs": [
        {
          "output_type": "stream",
          "text": [
            "0.773109243697479\n",
            "0.775\n"
          ],
          "name": "stdout"
        },
        {
          "output_type": "stream",
          "text": [
            "/usr/local/lib/python3.7/dist-packages/sklearn/linear_model/_stochastic_gradient.py:557: ConvergenceWarning: Maximum number of iteration reached before convergence. Consider increasing max_iter to improve the fit.\n",
            "  ConvergenceWarning)\n"
          ],
          "name": "stderr"
        }
      ]
    },
    {
      "cell_type": "code",
      "metadata": {
        "colab": {
          "base_uri": "https://localhost:8080/"
        },
        "id": "0LxIF84bmwQl",
        "outputId": "0080c706-10d8-4e77-e711-788e28b83e0e"
      },
      "source": [
        "sc.partial_fit(train_scaled, train_target) #SGDClassifier 객체를 다시 만들지 않고 훈련한 모델 sc를 추가로 더 훈련하기위한 메서드 즉, 호출할 때마다 1 에포크씩 모델을 이어서 훈련한다.\n",
        "print(sc.score(train_scaled, train_target))\n",
        "print(sc.score(test_scaled, test_target))"
      ],
      "execution_count": 7,
      "outputs": [
        {
          "output_type": "stream",
          "text": [
            "0.8151260504201681\n",
            "0.825\n"
          ],
          "name": "stdout"
        }
      ]
    },
    {
      "cell_type": "markdown",
      "metadata": {
        "id": "orpdINVGZdcu"
      },
      "source": [
        "# 에포크와 과대/과소적합"
      ]
    },
    {
      "cell_type": "code",
      "metadata": {
        "id": "xdDAht9znWxB"
      },
      "source": [
        "import numpy as np\n",
        "\n",
        "sc = SGDClassifier(loss='log',random_state=42)\n",
        "train_score = []\n",
        "test_score = []\n",
        "classes = np.unique(train_target)"
      ],
      "execution_count": 8,
      "outputs": []
    },
    {
      "cell_type": "code",
      "metadata": {
        "id": "xrAjBoyKZ_v4"
      },
      "source": [
        "for _ in range(0, 300):\n",
        "  sc.partial_fit(train_scaled, train_target, classes=classes)\n",
        "  train_score.append(sc.score(train_scaled, train_target))\n",
        "  test_score.append(sc.score(test_scaled, test_target))"
      ],
      "execution_count": 10,
      "outputs": []
    },
    {
      "cell_type": "code",
      "metadata": {
        "colab": {
          "base_uri": "https://localhost:8080/",
          "height": 279
        },
        "id": "eHopFfVkaFHR",
        "outputId": "966f57fe-1a8f-43e8-cfd5-18267ba5ce24"
      },
      "source": [
        "import matplotlib.pyplot as plt\n",
        "\n",
        "plt.plot(train_score, label = 'train_score')\n",
        "plt.plot(test_score, label = 'test_score')\n",
        "plt.xlabel('epoch')\n",
        "plt.ylabel('Accuracy')\n",
        "\n",
        "plt.legend()\n",
        "plt.show()"
      ],
      "execution_count": 14,
      "outputs": [
        {
          "output_type": "display_data",
          "data": {
            "image/png": "[encoded data removed]",
            "text/plain": [
              "<Figure size 432x288 with 1 Axes>"
            ]
          },
          "metadata": {
            "tags": [],
            "needs_background": "light"
          }
        }
      ]
    },
    {
      "cell_type": "markdown",
      "metadata": {
        "id": "lD3Wy1wXbqaX"
      },
      "source": [
        "\n",
        "\n",
        "*   백 번째 에포크 이후에는 훈련 세트와 테스트 세트의 점수가 조금씩 벌어짐\n",
        "*   에포크 초기에는 과소적합되어 훈련 세트와 테스트 세트의 점수가 낮음\n",
        "*   이 모델의 경우 백 번째 에포크가 적절한 반복 횟수로 보임\n",
        "\n",
        "\n",
        "\n"
      ]
    },
    {
      "cell_type": "code",
      "metadata": {
        "colab": {
          "base_uri": "https://localhost:8080/"
        },
        "id": "eNot2Hr9bg_j",
        "outputId": "b0a1f7f0-1980-4794-a0d8-fdda54d5b1ba"
      },
      "source": [
        "# 반복 횟수(max_iter) = 100으로 맞추고 모델 생성\n",
        "\n",
        "sc = SGDClassifier(loss='log', max_iter=100, tol=None, random_state=42) \n",
        "sc.fit(train_scaled,train_target)\n",
        "print(sc.score(train_scaled,train_target))\n",
        "print(sc.score(test_scaled,test_target))"
      ],
      "execution_count": 16,
      "outputs": [
        {
          "output_type": "stream",
          "text": [
            "0.957983193277311\n",
            "0.925\n"
          ],
          "name": "stdout"
        }
      ]
    },
    {
      "cell_type": "markdown",
      "metadata": {
        "id": "mMuk0UuneJLK"
      },
      "source": [
        "\n",
        "\n",
        "*   일정 에포크 동안 성능이 향상되지 않으면 더 훈련하지 않고 자동으로 멈춤. \n",
        "tol은 향상될 최솟값을 지정하는 매개변수\n",
        "*   loss의 기본값은 'hinge'로 힌지 손실은 서포트 벡터 머신(SVM)이라는 머신러닝 알고리즘을 위한 손실 함수\n",
        "\n"
      ]
    },
    {
      "cell_type": "markdown",
      "metadata": {
        "id": "WyOlXD1felUL"
      },
      "source": [
        "## 힌지 손실을 사용한 모델 훈련"
      ]
    },
    {
      "cell_type": "code",
      "metadata": {
        "colab": {
          "base_uri": "https://localhost:8080/"
        },
        "id": "AN_2kR3ddDG1",
        "outputId": "489ae624-ab86-432a-c03a-2e9b356f0f6a"
      },
      "source": [
        "sc = SGDClassifier(loss='hinge',max_iter=100,tol=None,random_state=42)\n",
        "sc.fit(train_scaled,train_target)\n",
        "print(sc.score(train_scaled,train_target))\n",
        "print(sc.score(test_scaled,test_target))"
      ],
      "execution_count": 18,
      "outputs": [
        {
          "output_type": "stream",
          "text": [
            "0.9495798319327731\n",
            "0.925\n"
          ],
          "name": "stdout"
        }
      ]
    }
  ]
}